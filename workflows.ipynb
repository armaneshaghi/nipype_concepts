{
 "metadata": {
  "name": "workflows"
 },
 "nbformat": 3,
 "nbformat_minor": 0,
 "worksheets": [
  {
   "cells": [
    {
     "cell_type": "heading",
     "level": 1,
     "metadata": {},
     "source": [
      "Nipype Concepts: Workflows"
     ]
    },
    {
     "cell_type": "markdown",
     "metadata": {},
     "source": [
      "![](http://nipy.sourceforge.net/nipype/_static/nipype-banner-bg.png)"
     ]
    },
    {
     "cell_type": "markdown",
     "metadata": {},
     "source": [
      "The goal of this notebook is to introduce and illustrate the basic concepts underlying Workflows. Although it would be possible to write analysis scripts using just Nipype Interfaces, and this may provide some advantages over directly making command-line calls, the main benefits of Nipype will come by creating workflows.\n",
      "\n",
      "First we'll use our helper fucntion from before."
     ]
    },
    {
     "cell_type": "code",
     "collapsed": false,
     "input": [
      "%pylab inline\n",
      "import nibabel as nib\n",
      "def plot_slice(fname, z_idx=5):\n",
      "    # Load the image and collect the data\n",
      "    # and orientation information\n",
      "    img = nib.load(fname)\n",
      "    data = img.get_data()\n",
      "    aff = img.get_affine()\n",
      "    # Find the center of the brain matrix\n",
      "    ctr = dot(linalg.inv(aff), [0, 0, 0, 1])[:3]\n",
      "    # Plot the data\n",
      "    vmin, vmax = (0, 1) if data.dtype == int16 else (30, 150)\n",
      "    imshow(data[:, :, ctr[2] + z_idx], \n",
      "           cmap=\"gray\", vmin=vmin, vmax=vmax)\n",
      "    xticks(()); yticks(())"
     ],
     "language": "python",
     "metadata": {},
     "outputs": [
      {
       "output_type": "stream",
       "stream": "stdout",
       "text": [
        "\n",
        "Welcome to pylab, a matplotlib-based Python environment [backend: module://IPython.zmq.pylab.backend_inline].\n",
        "For more information, type 'help(pylab)'.\n"
       ]
      }
     ],
     "prompt_number": 1
    },
    {
     "cell_type": "markdown",
     "metadata": {},
     "source": [
      "We will motivate the need for and principles behind workflows by showing how you would write something similar using only Interfaces. Imagine you were writing a simple script perform three steps:\n",
      "\n",
      "- Skullstrip an image to obtain a mask\n",
      "- Smooth the original image\n",
      "- Mask the smoothed image\n",
      "\n",
      "Using interfaces, your script might look a bit like the following:"
     ]
    },
    {
     "cell_type": "code",
     "collapsed": false,
     "input": [
      "from nipype.interfaces import fsl\n",
      "\n",
      "skullstrip = fsl.BET(in_file=\"data/T1.nii.gz\", mask=True)"
     ],
     "language": "python",
     "metadata": {},
     "outputs": [
      {
       "output_type": "stream",
       "stream": "stderr",
       "text": [
        "/Library/Frameworks/Python.framework/Versions/7.3/lib/python2.7/site-packages/nipype-0.6.0-py2.7.egg/nipype/interfaces/fsl/base.py:116: UserWarning: FSL environment variables not set. setting output type to NIFTI\n",
        "  warnings.warn('FSL environment variables not set. setting output type to NIFTI')\n"
       ]
      }
     ],
     "prompt_number": 3
    },
    {
     "cell_type": "code",
     "collapsed": false,
     "input": [],
     "language": "python",
     "metadata": {},
     "outputs": []
    }
   ],
   "metadata": {}
  }
 ]
}